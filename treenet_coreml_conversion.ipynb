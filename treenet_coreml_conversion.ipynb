{
  "nbformat": 4,
  "nbformat_minor": 0,
  "metadata": {
    "colab": {
      "name": "treenet_coreml_conversion.ipynb",
      "provenance": [],
      "collapsed_sections": [],
      "authorship_tag": "ABX9TyPgWeUGZExciNj7SOcBdirU",
      "include_colab_link": true
    },
    "kernelspec": {
      "name": "python3",
      "display_name": "Python 3"
    },
    "language_info": {
      "name": "python"
    }
  },
  "cells": [
    {
      "cell_type": "markdown",
      "metadata": {
        "id": "view-in-github",
        "colab_type": "text"
      },
      "source": [
        "<a href=\"https://colab.research.google.com/github/isakdiaz/treenet-colab/blob/main/treenet_coreml_conversion.ipynb\" target=\"_parent\"><img src=\"https://colab.research.google.com/assets/colab-badge.svg\" alt=\"Open In Colab\"/></a>"
      ]
    },
    {
      "cell_type": "code",
      "metadata": {
        "id": "0cnpWQoIQ3uW"
      },
      "source": [
        "%tensorflow_version 2.x\n",
        "import tensorflow as tf\n",
        "from tensorflow import keras\n",
        "from tensorflow.keras import layers\n",
        "import numpy as np\n",
        "import pandas as pd\n",
        "import matplotlib.pyplot as plt\n",
        "import os\n",
        "import pprint\n",
        "import json\n",
        "from sklearn.preprocessing import StandardScaler\n",
        "from sklearn.metrics import r2_score\n",
        "import tensorflow_datasets as tfds\n",
        "from tensorflow.keras.preprocessing.image import ImageDataGenerator\n",
        "from tensorflow.keras.layers import Dense, GlobalAveragePooling2D\n",
        "from tensorflow.keras.layers.experimental.preprocessing import Resizing\n",
        "from tensorflow.keras.models import Model\n",
        "from tensorflow.keras.applications.mobilenet_v2 import preprocess_input\n",
        "from tensorflow.keras.preprocessing import image\n",
        "from tensorflow.keras.callbacks import ModelCheckpoint\n"
      ],
      "execution_count": null,
      "outputs": []
    },
    {
      "cell_type": "code",
      "metadata": {
        "id": "7GrvjvOUBDYY"
      },
      "source": [
        "print(tf.__version__)\n",
        "print(np.__version__)"
      ],
      "execution_count": null,
      "outputs": []
    },
    {
      "cell_type": "markdown",
      "metadata": {
        "id": "z7KpDm6dQZMs"
      },
      "source": [
        "## Load Cloud Drive"
      ]
    },
    {
      "cell_type": "code",
      "metadata": {
        "id": "D62UafuKB5N7"
      },
      "source": [
        "from google.colab import drive\n",
        "drive.mount('/content/drive')"
      ],
      "execution_count": null,
      "outputs": []
    },
    {
      "cell_type": "markdown",
      "metadata": {
        "id": "fXZUk33Vpvug"
      },
      "source": [
        "## Install CoreML Tools\n",
        "### Requires Python 3.5 +"
      ]
    },
    {
      "cell_type": "code",
      "metadata": {
        "id": "0mzwPPEopvfX"
      },
      "source": [
        "!pip install coremltools"
      ],
      "execution_count": null,
      "outputs": []
    },
    {
      "cell_type": "code",
      "metadata": {
        "id": "rr_hFFA4qvvI"
      },
      "source": [
        "import coremltools as ct"
      ],
      "execution_count": null,
      "outputs": []
    },
    {
      "cell_type": "markdown",
      "metadata": {
        "id": "-_Q7Ryl0uBMf"
      },
      "source": [
        "## Download dataset to get classes\n"
      ]
    },
    {
      "cell_type": "code",
      "metadata": {
        "id": "3DLGPHg7uAzR"
      },
      "source": [
        "# Dataset URL\n",
        "!gdown https://drive.google.com/uc?id=1N-9k7Aa-GRAoiuKgM7ERPn-UkKdgcfIa"
      ],
      "execution_count": null,
      "outputs": []
    },
    {
      "cell_type": "code",
      "metadata": {
        "id": "J-ASZooQqXS8"
      },
      "source": [
        "# Place the plantnet zipped file in a folder called plantnet on your Google Drive directory\n",
        "# Unzips files from google drive to google colab\n",
        "!unzip /content/treenet.zip"
      ],
      "execution_count": null,
      "outputs": []
    },
    {
      "cell_type": "markdown",
      "metadata": {
        "id": "Supv50k7ufqf"
      },
      "source": [
        "## Create Class Labels for CoreML Config File"
      ]
    },
    {
      "cell_type": "code",
      "metadata": {
        "id": "gLnaEM1Uut9H"
      },
      "source": [
        "# Get labels from folder names\n",
        "DATASET_PATH = '/content/treenet'\n",
        "children= [os.path.join(DATASET_PATH, child) for child in os.listdir(DATASET_PATH)]\n",
        "files = filter(os.path.isdir, children)\n",
        "labels = sorted([file.split(\"/\")[-1] for file in files])\n",
        "num_classes = len(labels)\n",
        "\n",
        "print(f\"Dataset contains {num_classes} classes.\")\n",
        "labels"
      ],
      "execution_count": null,
      "outputs": []
    },
    {
      "cell_type": "markdown",
      "metadata": {
        "id": "FRLMRzjKQe8z"
      },
      "source": [
        "# Load Model File\n"
      ]
    },
    {
      "cell_type": "code",
      "metadata": {
        "id": "SLBCWq0t1K6B"
      },
      "source": [
        "# Check if a model exists\n",
        "!ls -all -h /content/drive/MyDrive/saved_models/treenet"
      ],
      "execution_count": null,
      "outputs": []
    },
    {
      "cell_type": "markdown",
      "metadata": {
        "id": "4B5z4MHP6Mx5"
      },
      "source": [
        "## Load Keras Model"
      ]
    },
    {
      "cell_type": "code",
      "metadata": {
        "id": "ier67RPc1WKp"
      },
      "source": [
        "gdrive_dir = \"/content/drive/MyDrive\"\n",
        "model_name = \"treenet_20210929\"\n",
        "file_path = \"{0}/saved_models/treenet/{1}.h5\".format(gdrive_dir, model_name)\n",
        "tf_model = tf.keras.models.load_model(file_path)"
      ],
      "execution_count": null,
      "outputs": []
    },
    {
      "cell_type": "code",
      "metadata": {
        "id": "nNJtaYh1u3v2"
      },
      "source": [
        "tf_model.summary()"
      ],
      "execution_count": null,
      "outputs": []
    },
    {
      "cell_type": "markdown",
      "metadata": {
        "id": "-4GgUXrt1Xqf"
      },
      "source": [
        "# Convert Keras model to CoreML Model\n"
      ]
    },
    {
      "cell_type": "code",
      "metadata": {
        "id": "XDg9OBaYqRMd"
      },
      "source": [
        "# image_input = ct.ImageType(color_layout=\"RGB\", scale=1/127.0, bias=[-1,-1,-1]) # -1 to 1 input\n",
        "image_input = ct.ImageType(color_layout=\"RGB\", scale=1/255.0, bias=[0,0,0]) # 0 to 1 input\n",
        "classifier_config = ct.ClassifierConfig(labels)\n",
        "\n",
        "# Set input as ImageType so CoreML can automatically resize it using Vision framework\n",
        "coreml_model = ct.convert(tf_model, inputs=[image_input], classifier_config=classifier_config)"
      ],
      "execution_count": null,
      "outputs": []
    },
    {
      "cell_type": "code",
      "metadata": {
        "id": "--uqy4qVu_M_"
      },
      "source": [
        "# # Define Spec Function\n",
        "from coremltools.models.neural_network.builder import _get_nn_spec as get_nn\n",
        "\n",
        "## Get Spec and check preprocessing\n",
        "spec = coreml_model.get_spec()\n",
        "nn = get_nn(spec)\n",
        "print(nn.preprocessing)"
      ],
      "execution_count": null,
      "outputs": []
    },
    {
      "cell_type": "markdown",
      "metadata": {
        "id": "v-s9ZjAK1oY4"
      },
      "source": [
        "## Save CoreML Model to Google Drive"
      ]
    },
    {
      "cell_type": "code",
      "metadata": {
        "id": "1J-llQvsd_7M"
      },
      "source": [
        "# !ls -all -hs \"$gdrive_dir\"\n",
        "folder_name = gdrive_dir + \"/CoreML\"\n",
        "!mkdir -p {folder_name}\n",
        "coreml_file_path = \"{0}/{1}.mlmodel\".format(folder_name, model_name)\n",
        "coreml_model.save(coreml_file_path)\n",
        "print(\"Core ML model {} saved in {}\".format(model_name, folder_name))"
      ],
      "execution_count": null,
      "outputs": []
    }
  ]
}